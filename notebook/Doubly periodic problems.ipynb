{
 "cells": [
  {
   "cell_type": "markdown",
   "id": "88c43723",
   "metadata": {},
   "source": [
    "# Doubly periodic flows\n",
    "\n",
    "This notebook demonstrates the use of the package to simulate the evolution of 2D flows that are doubly periodic (i.e., periodic in both the $x$ and $y$ directions). The flow field quantities are all represented as discrete Fourier transforms (i.e., Fourier series)\n",
    "\n",
    "$$\\omega(x,y,t) = \\sum_{k_x = 0}^{N_x-1} \\sum_{k_y = 0}^{N_y-1} \\hat{\\omega}(k_x,k_y,t) e^{i(k_x x + k_y y)}$$\n",
    "\n",
    "The functions `physical2fourier` and `fourier2physical` take us back and forth between the physical domain and the Fourier domain.\n",
    "\n",
    "The Navier-Stokes equations are solved in the Fourier domain. The non-linear convective term is handled using a pseudo-spectral technique (i.e., the terms in the product are each transformed to the physical domain, multiplied, and then transformed back, with special care to prevent aliasing errors)."
   ]
  },
  {
   "cell_type": "code",
   "execution_count": null,
   "id": "19aa11c4",
   "metadata": {},
   "outputs": [],
   "source": [
    "using PseudoSpectral"
   ]
  },
  {
   "cell_type": "code",
   "execution_count": null,
   "id": "45e4cf16",
   "metadata": {},
   "outputs": [],
   "source": [
    "using Plots"
   ]
  },
  {
   "cell_type": "markdown",
   "id": "aac32e5e",
   "metadata": {},
   "source": [
    "### Initialize a grid on $[0,2\\pi)\\times[0,2\\pi)$ "
   ]
  },
  {
   "cell_type": "code",
   "execution_count": null,
   "id": "6007cbad",
   "metadata": {},
   "outputs": [],
   "source": [
    "# Set the grid dimensions and create points\n",
    "Nx, Ny = 256, 256\n",
    "Δx, Δy = 2π/Nx, 2π/Ny\n",
    "x = range(0,2π,Nx+1)[1:Nx]\n",
    "y = range(0,2π,Ny+1)[1:Ny]\n",
    "\n",
    "# Set the viscosity\n",
    "ν = 0.0005;"
   ]
  },
  {
   "cell_type": "markdown",
   "id": "0ea39166",
   "metadata": {},
   "source": [
    "### Initialize a vorticity field\n",
    "There are a few different examples here. Uncomment the one you want."
   ]
  },
  {
   "cell_type": "code",
   "execution_count": null,
   "id": "64abd981",
   "metadata": {},
   "outputs": [],
   "source": [
    "# Initial a flow for a perturbed shear layer\n",
    "w0 = shearlayer(x,y;perturb = 0.02, thickness = 0.2)\n",
    "\n",
    "# Initialize a flow for two co-rotating vortices\n",
    "#w0 = twovortex(x,y,distance=1.0)\n",
    "\n",
    "# Initialize a flow for homogeneous isotropic turbulence. The `factor` controls how strong the turbulence is.\n",
    "# You can use this to create different turbulent Reynolds numbers (but it has to be reasonably well resolved)\n",
    "#w0 = randomfield(x,y,factor=5.0)\n",
    "\n",
    "# You can also add these flows up\n",
    "#w0 = shearlayer(x,y;perturb=0.0) .+ randomfield(x,y,factor=0.25)\n",
    "\n",
    "\n",
    "plot(x,y,w0',ratio=1, xlim=(0,2π),ylim=(0,2π))"
   ]
  },
  {
   "cell_type": "markdown",
   "id": "bdb8f366",
   "metadata": {},
   "source": [
    "### Get the initial Fourier coefficients of the field"
   ]
  },
  {
   "cell_type": "code",
   "execution_count": null,
   "id": "693e5910",
   "metadata": {},
   "outputs": [],
   "source": [
    "what0 = physical2fourier(w0);\n",
    "\n",
    "# Get the initial velocity field\n",
    "u, v = velocity(what0);"
   ]
  },
  {
   "cell_type": "markdown",
   "id": "87a1f42a",
   "metadata": {},
   "source": [
    "### Check on the homogeneous isotropic turbulence problem\n",
    "Here, we compute the initial statistics of the problem. These are only useful for turbulence problems"
   ]
  },
  {
   "cell_type": "code",
   "execution_count": null,
   "id": "7ddda921",
   "metadata": {},
   "outputs": [],
   "source": [
    "# Turbulent kinetic energy\n",
    "K0 = tke(what0)\n",
    "\n",
    "# Energy dissipation rate\n",
    "ϵ0 = dissrate(what0,ν)\n",
    "\n",
    "# Integral length scale\n",
    "L0 = K0^(3/2)/ϵ0\n",
    "\n",
    "# Turbulence Reynolds number\n",
    "ReL0 = K0^2/ϵ0/ν\n",
    "\n",
    "# Kolmogorov scale\n",
    "η0 = L0*ReL0^(-3/4)\n",
    "\n",
    "# Taylor microscale\n",
    "lam0 = L0*sqrt(10/ReL0)\n",
    "\n",
    "# Taylor Reynolds number\n",
    "Relam0 = (20*ReL0/3)^(1/2)\n",
    "\n",
    "# Grid spacing relative to Kolmogorov scale.\n",
    "Δx/lam0\n",
    "\n",
    "# Grid spacing relative to Kolmogorov scale. It should be reasonably close to 1 for true DNS.\n",
    "Δx/η0"
   ]
  },
  {
   "cell_type": "markdown",
   "id": "63351de9",
   "metadata": {},
   "source": [
    "### Check the Taylor Reynolds number"
   ]
  },
  {
   "cell_type": "code",
   "execution_count": null,
   "id": "5db63531",
   "metadata": {},
   "outputs": [],
   "source": [
    "Relam0"
   ]
  },
  {
   "cell_type": "markdown",
   "id": "cb2ee941",
   "metadata": {},
   "source": [
    "### Set the time step size"
   ]
  },
  {
   "cell_type": "code",
   "execution_count": null,
   "id": "91711328",
   "metadata": {},
   "outputs": [],
   "source": [
    "# For turbulence problem\n",
    "#Δt = Δx/sqrt(K0)\n",
    "\n",
    "# For shear layer or vortex problem\n",
    "\n",
    "Δt = 0.1*Δx/maximum(abs.(u))\n",
    "\n",
    "\n",
    "params = VorticityFourierFourierNSCache(Nx,Ny,ν,Δt);"
   ]
  },
  {
   "cell_type": "markdown",
   "id": "99dbb5f8",
   "metadata": {},
   "source": [
    "### Now, solve the flow\n",
    "Initialize things first"
   ]
  },
  {
   "cell_type": "code",
   "execution_count": null,
   "id": "2328d129",
   "metadata": {},
   "outputs": [],
   "source": [
    "t = 0.0\n",
    "nskip = 50 # Number of steps to run between data saves\n",
    "nt = 50 # Number of intervals to run (so total simulation time = nt*nskip*Δt)\n",
    "\n",
    "what = copy(what0)\n",
    "\n",
    "whistory = [copy(what0)];\n",
    "thistory = [t];"
   ]
  },
  {
   "cell_type": "code",
   "execution_count": null,
   "id": "de0ccd5f",
   "metadata": {},
   "outputs": [],
   "source": [
    "# You can re-run this to extend a simulation\n",
    "for kt in 1:nt\n",
    "    for jt in 1:nskip\n",
    "        vorticity_ff_ns_step!(what,params)\n",
    "        t += Δt\n",
    "    end\n",
    "    push!(whistory,copy(what))\n",
    "    push!(thistory,t)\n",
    "end"
   ]
  },
  {
   "cell_type": "markdown",
   "id": "44eed1e7",
   "metadata": {},
   "source": [
    "This simulation records the Fourier coefficients of the vorticity field (`what` denotes $\\hat{\\omega}$). We can use this to compute any other quantity:"
   ]
  },
  {
   "cell_type": "code",
   "execution_count": null,
   "id": "138e8082",
   "metadata": {},
   "outputs": [],
   "source": [
    "u, v = velocity(what);\n",
    "ψ = streamfunction(what);\n",
    "ω = vorticity(what);"
   ]
  },
  {
   "cell_type": "code",
   "execution_count": null,
   "id": "83f4ac31",
   "metadata": {},
   "outputs": [],
   "source": [
    "# This is a check that the simulation didn't blow up. (If it is NaN, it blew up!)\n",
    "maximum(u)"
   ]
  },
  {
   "cell_type": "code",
   "execution_count": null,
   "id": "7d4bec15",
   "metadata": {},
   "outputs": [],
   "source": [
    "plot(x,y,ω',ratio=1, xlim=(0,2π),ylim=(0,2π),levels=range(-5,5,length=30))"
   ]
  },
  {
   "cell_type": "markdown",
   "id": "d4a3bfdf",
   "metadata": {},
   "source": [
    "The history of the Fourier coefficients is recorded in `whistory`, and time is in `thistory`. Let's make a movie:"
   ]
  },
  {
   "cell_type": "code",
   "execution_count": null,
   "id": "f79faa63",
   "metadata": {},
   "outputs": [],
   "source": [
    "@gif for whatj in whistory\n",
    "    ωj = vorticity(whatj)\n",
    "    plot(x,y,ωj',ratio=1, xlim=(0,2π),ylim=(0,2π),levels=range(-5,5,length=30),legend=false)\n",
    "end every 1"
   ]
  },
  {
   "cell_type": "markdown",
   "id": "7bb838b4",
   "metadata": {},
   "source": [
    "### For analysis of homogenous isotropic turbulence\n",
    "There are several functions that can be run to compute statistics of the turbulent flow. These are\n",
    "\n",
    "`wavenumbers_fourier(Nx,Ny)` returns the wavenumbers `kx` and `ky`\n",
    "\n",
    "`energy_fourier(what)` to compute the turbulent kinetic energy in each Fourier mode. This is an array of energies, with `kx` and `ky` as the rows and columns.\n",
    "\n",
    "`tke(what)` returns a scalar, the total turbulent kinetic energy\n",
    "      \n",
    "`dissrate(what,nu)` returns a scalar, the energy dissipation rate\n",
    "\n",
    "`restress(what)` returns a 2x2 array of the Reynolds stresses"
   ]
  },
  {
   "cell_type": "code",
   "execution_count": null,
   "id": "faf3891c",
   "metadata": {},
   "outputs": [],
   "source": [
    "# Compute the history of the turbulent kinetic energy.\n",
    "K = [tke(wj) for wj in whistory];\n",
    "\n",
    "ϵ = [dissrate(wj,ν) for wj in whistory];"
   ]
  },
  {
   "cell_type": "code",
   "execution_count": null,
   "id": "053bbbfd",
   "metadata": {},
   "outputs": [],
   "source": [
    "plot(thistory,K,xlabel=\"\\$t\\$\",ylabel=\"\\$E(t)\\$\")"
   ]
  },
  {
   "cell_type": "markdown",
   "id": "6f0af949",
   "metadata": {},
   "source": [
    "## Project\n",
    "The final project should be written in the form of a technical report, with nice formatting and plots to go along with the explanatory text.\n",
    "\n",
    "### Project questions:\n",
    "Simulate the perturbed shear layer problem.\n",
    "- Show snapshots of the resulting evolution of the shear layer. What is the final behavior?\n",
    "- Verify that this behavior is not strongly affected by the viscosity. (Again, be careful that you are resolving the flow adequately. For this, check if the solution is different if Nx and Ny are larger.\n",
    "\n",
    "Simulate decaying homogeneous isotropic 2D turbulence at $\\nu = 0.0005$ and different choices of the amplitude of the turbulence (the `factor` argument). Be realistic with this amplitude -- you probably can't simulate turbulence that is too strong, based on grid spacing relative to Kolmogorov.\n",
    "   - Plot the turbulent kinetic energy and the rate of dissipation vs time, and verify that the rate of change of the TKE is approximately equal to the negative of the dissipation rate.\n",
    "   - Why does energy decay in this flow?\n",
    "   - Find the approximate exponent on time to fit a power law for energy vs time (i.e., assuming $E \\sim t^p$ and find $p$ approximately)\n",
    "   - Calculate and plot, as functions of time: the integral length scale, the turbulence Reynolds number, the Taylor microscale length, the Kolmogorov length scale, and the Taylor Reynolds number\n",
    "   - Explain why the length scales and various Reynolds numbers are becoming larger with time\n",
    " \n",
    "Finally, combine these two flows (see the sum in the examples cell above). Compute the flow with *no* perturbation in the shear layer.\n",
    "- How does the presence of turbulence affect the evolution of the perturbed shear layer?\n",
    "- Explain the behavior you observe."
   ]
  },
  {
   "cell_type": "code",
   "execution_count": null,
   "id": "d138c2ad",
   "metadata": {},
   "outputs": [],
   "source": []
  }
 ],
 "metadata": {
  "@webio": {
   "lastCommId": null,
   "lastKernelId": null
  },
  "kernelspec": {
   "display_name": "Julia 1.9.2",
   "language": "julia",
   "name": "julia-1.9"
  },
  "language_info": {
   "file_extension": ".jl",
   "mimetype": "application/julia",
   "name": "julia",
   "version": "1.9.2"
  }
 },
 "nbformat": 4,
 "nbformat_minor": 5
}
